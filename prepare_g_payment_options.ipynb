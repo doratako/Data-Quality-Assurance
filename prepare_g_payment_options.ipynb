{
 "cells": [
  {
   "cell_type": "code",
   "execution_count": 1,
   "id": "f067d0c7-81a6-4dfd-b32c-0aab9b06b749",
   "metadata": {},
   "outputs": [],
   "source": [
    "import pandas as pd\n",
    "from shared_functions import * \n",
    "import os\n"
   ]
  },
  {
   "cell_type": "code",
   "execution_count": 2,
   "id": "3eea0dca",
   "metadata": {},
   "outputs": [],
   "source": [
    "pd.set_option(\"display.max_columns\", 25)\n",
    "pd.set_option(\"display.max_colwidth\",20)"
   ]
  },
  {
   "cell_type": "code",
   "execution_count": 3,
   "metadata": {},
   "outputs": [],
   "source": [
    "notebook = os.path.basename(globals()['__vsc_ipynb_file__'])"
   ]
  },
  {
   "attachments": {},
   "cell_type": "markdown",
   "id": "b37b251b",
   "metadata": {},
   "source": [
    "Open File"
   ]
  },
  {
   "cell_type": "code",
   "execution_count": 4,
   "id": "e5d20f77-97f8-47c3-93c9-38884b5c6118",
   "metadata": {},
   "outputs": [],
   "source": [
    "source_path = f\"{raw_files_folder}/chefmozaccepts.csv\""
   ]
  },
  {
   "cell_type": "code",
   "execution_count": 5,
   "id": "63bcf68a-0248-44df-a1b3-89024d8f4867",
   "metadata": {},
   "outputs": [],
   "source": [
    "df_orig = read_files(source_path, notebook)  "
   ]
  },
  {
   "cell_type": "code",
   "execution_count": 6,
   "id": "2142dfb6",
   "metadata": {},
   "outputs": [],
   "source": [
    "%store -r geo_unique_place_id"
   ]
  },
  {
   "attachments": {},
   "cell_type": "markdown",
   "id": "c90b67b0",
   "metadata": {},
   "source": [
    "Validate column names in the source"
   ]
  },
  {
   "cell_type": "code",
   "execution_count": 7,
   "id": "053f0e8b",
   "metadata": {},
   "outputs": [],
   "source": [
    "source_columns = df_orig.columns.to_list()\n"
   ]
  },
  {
   "cell_type": "code",
   "execution_count": 8,
   "id": "d94ee9ad",
   "metadata": {},
   "outputs": [],
   "source": [
    "expected_columns = ['placeID', 'Rpayment']"
   ]
  },
  {
   "cell_type": "code",
   "execution_count": 9,
   "id": "3b743a19",
   "metadata": {},
   "outputs": [],
   "source": [
    "source_columns_name_check(source_columns ,expected_columns, notebook)"
   ]
  },
  {
   "attachments": {},
   "cell_type": "markdown",
   "id": "5c53d976",
   "metadata": {},
   "source": [
    "Filter with geoplaces placeIDs"
   ]
  },
  {
   "cell_type": "code",
   "execution_count": 10,
   "id": "a65af2a6",
   "metadata": {},
   "outputs": [],
   "source": [
    "df_filtered = df_orig[df_orig[\"placeID\"].isin(geo_unique_place_id)]"
   ]
  },
  {
   "attachments": {},
   "cell_type": "markdown",
   "id": "1d8f3064",
   "metadata": {},
   "source": [
    "Remove leading, trailing whitespaces"
   ]
  },
  {
   "cell_type": "code",
   "execution_count": 11,
   "id": "0e18f9fd",
   "metadata": {},
   "outputs": [],
   "source": [
    "df = strip_df(df_filtered)"
   ]
  },
  {
   "attachments": {},
   "cell_type": "markdown",
   "id": "35dc1c87",
   "metadata": {},
   "source": [
    "Remove rows where mandatory data are missing "
   ]
  },
  {
   "cell_type": "code",
   "execution_count": 12,
   "id": "5817685a",
   "metadata": {},
   "outputs": [],
   "source": [
    "\n",
    "mandatory_columns_paymentopt = [\"placeID\"]"
   ]
  },
  {
   "cell_type": "code",
   "execution_count": 13,
   "id": "d4b079ec",
   "metadata": {},
   "outputs": [],
   "source": [
    "df_mandatory_cols = mandatory_columns_null_handling(df, mandatory_columns_paymentopt, notebook)\n"
   ]
  },
  {
   "attachments": {},
   "cell_type": "markdown",
   "id": "48b86f93",
   "metadata": {},
   "source": [
    "Replace specified chars, capitalise first letter"
   ]
  },
  {
   "cell_type": "code",
   "execution_count": 14,
   "id": "afad86f4",
   "metadata": {},
   "outputs": [],
   "source": [
    "format_columns_paymentopt = [\"Rpayment\"]\n"
   ]
  },
  {
   "cell_type": "code",
   "execution_count": 15,
   "id": "a1488fbc",
   "metadata": {},
   "outputs": [],
   "source": [
    "replace_char_dict_paymentopt = {\"_\": \" \", \"-\": \" \"}"
   ]
  },
  {
   "cell_type": "code",
   "execution_count": 16,
   "id": "425242c1",
   "metadata": {},
   "outputs": [],
   "source": [
    "df_format_cols = format_columns(df_mandatory_cols, format_columns_paymentopt, replace_char_dict_paymentopt, notebook)\n"
   ]
  },
  {
   "attachments": {},
   "cell_type": "markdown",
   "id": "9bd8d196",
   "metadata": {},
   "source": [
    "Drop duplicates"
   ]
  },
  {
   "cell_type": "code",
   "execution_count": 17,
   "id": "6b345e76",
   "metadata": {},
   "outputs": [],
   "source": [
    "df_final_paymentopt = df_format_cols.drop_duplicates()"
   ]
  },
  {
   "cell_type": "code",
   "execution_count": null,
   "id": "934bc734",
   "metadata": {},
   "outputs": [],
   "source": []
  }
 ],
 "metadata": {
  "kernelspec": {
   "display_name": "Python 3 (ipykernel)",
   "language": "python",
   "name": "python3"
  },
  "language_info": {
   "codemirror_mode": {
    "name": "ipython",
    "version": 3
   },
   "file_extension": ".py",
   "mimetype": "text/x-python",
   "name": "python",
   "nbconvert_exporter": "python",
   "pygments_lexer": "ipython3",
   "version": "3.9.13"
  }
 },
 "nbformat": 4,
 "nbformat_minor": 5
}
