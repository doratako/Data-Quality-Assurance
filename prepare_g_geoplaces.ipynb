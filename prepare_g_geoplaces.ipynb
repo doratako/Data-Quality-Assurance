{
 "cells": [
  {
   "cell_type": "code",
   "execution_count": 122,
   "id": "f067d0c7-81a6-4dfd-b32c-0aab9b06b749",
   "metadata": {},
   "outputs": [],
   "source": [
    "import pandas as pd\n",
    "from shared_functions import * \n",
    "import os"
   ]
  },
  {
   "cell_type": "code",
   "execution_count": 123,
   "id": "3eea0dca",
   "metadata": {},
   "outputs": [],
   "source": [
    "pd.set_option(\"display.max_columns\", 25)\n",
    "pd.set_option(\"display.max_colwidth\",20)"
   ]
  },
  {
   "cell_type": "code",
   "execution_count": 124,
   "id": "ed95c52a",
   "metadata": {},
   "outputs": [],
   "source": [
    "notebook = os.path.basename(globals()['__vsc_ipynb_file__'])"
   ]
  },
  {
   "attachments": {},
   "cell_type": "markdown",
   "id": "b37b251b",
   "metadata": {},
   "source": [
    "Open File"
   ]
  },
  {
   "cell_type": "code",
   "execution_count": 125,
   "id": "e5d20f77-97f8-47c3-93c9-38884b5c6118",
   "metadata": {},
   "outputs": [],
   "source": [
    "source_path = f\"{raw_files_folder}/geoplaces2.csv\""
   ]
  },
  {
   "cell_type": "code",
   "execution_count": 126,
   "id": "63bcf68a-0248-44df-a1b3-89024d8f4867",
   "metadata": {},
   "outputs": [],
   "source": [
    "df_orig = read_files(source_path, notebook)  "
   ]
  },
  {
   "attachments": {},
   "cell_type": "markdown",
   "id": "286c0ff9",
   "metadata": {},
   "source": [
    "Validate column names in the source"
   ]
  },
  {
   "cell_type": "code",
   "execution_count": 127,
   "id": "cfb649dd",
   "metadata": {},
   "outputs": [],
   "source": [
    "source_columns = df_orig.columns.to_list()\n"
   ]
  },
  {
   "cell_type": "code",
   "execution_count": 128,
   "id": "918c79a1",
   "metadata": {},
   "outputs": [],
   "source": [
    "expected_columns = ['placeID','latitude','longitude','the_geom_meter','name','address','city','state','country','fax',\n",
    " 'zip','alcohol','smoking_area','dress_code','accessibility','price','url','Rambience','franchise','area','other_services']\n"
   ]
  },
  {
   "cell_type": "code",
   "execution_count": 129,
   "id": "2c0a1747",
   "metadata": {},
   "outputs": [],
   "source": [
    "source_columns_name_check(source_columns ,expected_columns, notebook)"
   ]
  },
  {
   "attachments": {},
   "cell_type": "markdown",
   "id": "1f0be4d8",
   "metadata": {},
   "source": [
    "Remove leading, trailing whitespaces"
   ]
  },
  {
   "cell_type": "code",
   "execution_count": 130,
   "id": "9b1aa543",
   "metadata": {},
   "outputs": [],
   "source": [
    "df = strip_df(df_orig)"
   ]
  },
  {
   "attachments": {},
   "cell_type": "markdown",
   "id": "4decabd1",
   "metadata": {},
   "source": [
    "Remove rows where mandatory data are missing \n"
   ]
  },
  {
   "cell_type": "code",
   "execution_count": 131,
   "id": "70788409-cd4a-4667-87dd-8fcb285d93a8",
   "metadata": {},
   "outputs": [],
   "source": [
    "# column is empty\n",
    "\n",
    "df_empty_col = df.drop(\"fax\", axis=1)"
   ]
  },
  {
   "cell_type": "code",
   "execution_count": 132,
   "id": "1999bbc9-0520-4450-a956-fd2697d4d1ec",
   "metadata": {},
   "outputs": [],
   "source": [
    "# columns that are not allowed to have missing values\n",
    "\n",
    "mandatory_columns_geoplaces = [\"placeID\" , \"name\", \"address\", \"city\", \"state\", \"country\"]\n"
   ]
  },
  {
   "cell_type": "code",
   "execution_count": 133,
   "id": "1ec3b112-dc68-45f1-8596-066640ba0653",
   "metadata": {},
   "outputs": [],
   "source": [
    "df_mandatory_cols = mandatory_columns_null_handling(df_empty_col,mandatory_columns_geoplaces, notebook)\n"
   ]
  },
  {
   "attachments": {},
   "cell_type": "markdown",
   "id": "35dc1c87",
   "metadata": {},
   "source": [
    "Handle missing data in optional columns "
   ]
  },
  {
   "cell_type": "code",
   "execution_count": 134,
   "id": "d4b079ec",
   "metadata": {},
   "outputs": [],
   "source": [
    "df_optional_cols = optional_columns_null_handling(df_mandatory_cols, mandatory_columns_geoplaces, notebook)\n"
   ]
  },
  {
   "attachments": {},
   "cell_type": "markdown",
   "id": "48b86f93",
   "metadata": {},
   "source": [
    "Replace specified chars, capitalise first letter"
   ]
  },
  {
   "cell_type": "code",
   "execution_count": 135,
   "id": "afad86f4",
   "metadata": {},
   "outputs": [],
   "source": [
    "format_columns_geoplaces = [\"name\", \"address\", \"city\", \"state\", \"country\", \"zip\", \"alcohol\", \"smoking_area\", \"dress_code\", \"accessibility\", \"price\", \"Rambience\", \"franchise\", \"area\", \"other_services\"]\n"
   ]
  },
  {
   "cell_type": "code",
   "execution_count": 136,
   "id": "a1488fbc",
   "metadata": {},
   "outputs": [],
   "source": [
    "replace_char_dict_geoplaces = {\"_\": \" \", \"-\": \" \"}"
   ]
  },
  {
   "cell_type": "code",
   "execution_count": 137,
   "id": "425242c1",
   "metadata": {},
   "outputs": [],
   "source": [
    "df_format_cols = format_columns(df_optional_cols, format_columns_geoplaces, replace_char_dict_geoplaces, notebook)\n"
   ]
  },
  {
   "cell_type": "code",
   "execution_count": 138,
   "id": "a4546709",
   "metadata": {},
   "outputs": [],
   "source": [
    "df_format_cols[[\"latitude\", \"longitude\"]] = df_format_cols[[\"latitude\", \"longitude\"]].astype(float)"
   ]
  },
  {
   "attachments": {},
   "cell_type": "markdown",
   "id": "4d3ae579",
   "metadata": {},
   "source": [
    "Abbrevation expansion"
   ]
  },
  {
   "cell_type": "code",
   "execution_count": 139,
   "id": "e788534a",
   "metadata": {},
   "outputs": [],
   "source": [
    "df_abbr = df_format_cols.copy(deep=True)\n",
    "df_abbr.loc[:, \"city\": \"state\"] = df_format_cols.loc[:, \"city\": \"state\"].apply(lambda x: x.replace({'S.L.P.':'San Luis Potosi', 'Slp':'San Luis Potosi', r\"\\bVictoriab\":'Ciudad Victoria', 'Cd Victoria':'Ciudad Victoria', 'Cd. Victoria':'Ciudad Victoria'}\n",
    "                                    , regex=True))\n"
   ]
  },
  {
   "cell_type": "code",
   "execution_count": 140,
   "id": "97564032",
   "metadata": {},
   "outputs": [],
   "source": [
    "df_abbr[\"franchise\"].replace({\"F\": \"False\", \"T\": \"True\"}, inplace=True)"
   ]
  },
  {
   "cell_type": "markdown",
   "id": "008e135a",
   "metadata": {},
   "source": [
    "Constraints"
   ]
  },
  {
   "cell_type": "code",
   "execution_count": 141,
   "id": "4a696e07",
   "metadata": {},
   "outputs": [],
   "source": [
    "def constraints():\n",
    "    try: \n",
    "        if df_abbr[\"franchise\"].isin([\"False\", \"True\"]).all():\n",
    "            pass\n",
    "        else:\n",
    "            raise ValueError\n",
    "    \n",
    "    except Exception:\n",
    "        trace = traceback.format_exc(limit=1)\n",
    "\n",
    "        with open(\"log.txt\", \"a\") as f:\n",
    "            print(f\"An error occured running the <{notebook}>\", file=f)\n",
    "            print()\n",
    "            print(trace, file=f)  \n",
    "\n",
    "        sys.exit()"
   ]
  },
  {
   "cell_type": "code",
   "execution_count": 142,
   "id": "9547fd14",
   "metadata": {},
   "outputs": [],
   "source": [
    "constraints()"
   ]
  },
  {
   "attachments": {},
   "cell_type": "markdown",
   "id": "9bd8d196",
   "metadata": {},
   "source": [
    "Check duplicates"
   ]
  },
  {
   "cell_type": "code",
   "execution_count": 143,
   "id": "6b345e76",
   "metadata": {},
   "outputs": [],
   "source": [
    "df_final_geoplaces = df_abbr.drop_duplicates()\n"
   ]
  },
  {
   "cell_type": "code",
   "execution_count": 144,
   "id": "78c289b4",
   "metadata": {},
   "outputs": [],
   "source": [
    "geo_unique_place_id = df_final_geoplaces[\"placeID\"].unique()"
   ]
  },
  {
   "cell_type": "code",
   "execution_count": 145,
   "id": "b63229b4",
   "metadata": {},
   "outputs": [
    {
     "name": "stdout",
     "output_type": "stream",
     "text": [
      "Stored 'geo_unique_place_id' (ndarray)\n"
     ]
    }
   ],
   "source": [
    "%store geo_unique_place_id"
   ]
  },
  {
   "cell_type": "code",
   "execution_count": null,
   "id": "32ded715",
   "metadata": {},
   "outputs": [],
   "source": []
  }
 ],
 "metadata": {
  "kernelspec": {
   "display_name": "Python 3 (ipykernel)",
   "language": "python",
   "name": "python3"
  },
  "language_info": {
   "codemirror_mode": {
    "name": "ipython",
    "version": 3
   },
   "file_extension": ".py",
   "mimetype": "text/x-python",
   "name": "python",
   "nbconvert_exporter": "python",
   "pygments_lexer": "ipython3",
   "version": "3.9.13"
  }
 },
 "nbformat": 4,
 "nbformat_minor": 5
}
