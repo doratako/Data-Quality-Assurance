{
 "cells": [
  {
   "cell_type": "code",
   "execution_count": 140,
   "id": "f067d0c7-81a6-4dfd-b32c-0aab9b06b749",
   "metadata": {},
   "outputs": [],
   "source": [
    "import pandas as pd\n",
    "from shared_functions import * \n",
    "import os\n"
   ]
  },
  {
   "cell_type": "code",
   "execution_count": 141,
   "id": "3eea0dca",
   "metadata": {},
   "outputs": [],
   "source": [
    "pd.set_option(\"display.max_columns\", 25)\n",
    "pd.set_option(\"display.max_colwidth\",20)"
   ]
  },
  {
   "cell_type": "code",
   "execution_count": 142,
   "id": "f5dfff09",
   "metadata": {},
   "outputs": [],
   "source": [
    "notebook = os.path.basename(globals()['__vsc_ipynb_file__'])"
   ]
  },
  {
   "attachments": {},
   "cell_type": "markdown",
   "id": "b37b251b",
   "metadata": {},
   "source": [
    "Open File"
   ]
  },
  {
   "cell_type": "code",
   "execution_count": 143,
   "id": "e5d20f77-97f8-47c3-93c9-38884b5c6118",
   "metadata": {},
   "outputs": [],
   "source": [
    "source_path = f\"{raw_files_folder}/userprofile.csv\""
   ]
  },
  {
   "cell_type": "code",
   "execution_count": 144,
   "id": "63bcf68a-0248-44df-a1b3-89024d8f4867",
   "metadata": {},
   "outputs": [],
   "source": [
    "df_orig = read_files(source_path, notebook)  "
   ]
  },
  {
   "attachments": {},
   "cell_type": "markdown",
   "id": "f51319ac",
   "metadata": {},
   "source": [
    "Validate column names in the source"
   ]
  },
  {
   "cell_type": "code",
   "execution_count": 145,
   "id": "2d4fa519",
   "metadata": {},
   "outputs": [],
   "source": [
    "source_columns = df_orig.columns.to_list()"
   ]
  },
  {
   "cell_type": "code",
   "execution_count": 146,
   "id": "f492090f",
   "metadata": {},
   "outputs": [],
   "source": [
    "expected_columns = ['userID', 'latitude', 'longitude', 'smoker', 'drink_level',\n",
    "       'dress_preference', 'ambience', 'transport', 'marital_status', 'hijos',\n",
    "       'birth_year', 'interest', 'personality', 'religion', 'activity',\n",
    "       'color', 'weight', 'budget', 'height']"
   ]
  },
  {
   "cell_type": "code",
   "execution_count": 147,
   "id": "b06e2e4d",
   "metadata": {},
   "outputs": [],
   "source": [
    "source_columns_name_check(source_columns ,expected_columns, notebook)\n",
    "   "
   ]
  },
  {
   "attachments": {},
   "cell_type": "markdown",
   "id": "e77d29a0",
   "metadata": {},
   "source": [
    "Remove leading, trailing whitespaces"
   ]
  },
  {
   "cell_type": "code",
   "execution_count": 148,
   "id": "d975f210",
   "metadata": {},
   "outputs": [],
   "source": [
    "df = strip_df(df_orig)"
   ]
  },
  {
   "attachments": {},
   "cell_type": "markdown",
   "id": "4decabd1",
   "metadata": {},
   "source": [
    "Remove rows where mandatory data are missing \n"
   ]
  },
  {
   "cell_type": "code",
   "execution_count": 149,
   "id": "1999bbc9-0520-4450-a956-fd2697d4d1ec",
   "metadata": {},
   "outputs": [],
   "source": [
    "# columns that are not allowed to have missing values\n",
    "\n",
    "mandatory_columns_customers = [\"userID\" , \"smoker\", \"drink_level\", \"marital_status\",\"birth_year\", \"activity\"]\n"
   ]
  },
  {
   "cell_type": "code",
   "execution_count": 150,
   "id": "1ec3b112-dc68-45f1-8596-066640ba0653",
   "metadata": {},
   "outputs": [],
   "source": [
    "df_mandatory_cols = mandatory_columns_null_handling(df, mandatory_columns_customers, notebook)\n"
   ]
  },
  {
   "cell_type": "code",
   "execution_count": 151,
   "id": "d2a99672",
   "metadata": {},
   "outputs": [],
   "source": [
    "# drop irrelevant column \n",
    "\n",
    "df_mandatory_cols.drop(\"hijos\", axis=1, inplace=True)"
   ]
  },
  {
   "attachments": {},
   "cell_type": "markdown",
   "id": "35dc1c87",
   "metadata": {},
   "source": [
    "Handle missing data in optional columns "
   ]
  },
  {
   "cell_type": "code",
   "execution_count": 152,
   "id": "d4b079ec",
   "metadata": {},
   "outputs": [],
   "source": [
    "df_optional_cols = optional_columns_null_handling(df_mandatory_cols, mandatory_columns_customers, notebook)\n"
   ]
  },
  {
   "attachments": {},
   "cell_type": "markdown",
   "id": "48b86f93",
   "metadata": {},
   "source": [
    "Replace specified chars, capitalise first letter"
   ]
  },
  {
   "cell_type": "code",
   "execution_count": 153,
   "id": "3fcb2b3f",
   "metadata": {},
   "outputs": [],
   "source": [
    "format_columns_customers = [\"smoker\", \"drink_level\", \"dress_preference\", \"ambience\", \"transport\", \"marital_status\", \"interest\", \"personality\", \"religion\", \"activity\", \"color\", \"budget\" ]"
   ]
  },
  {
   "cell_type": "code",
   "execution_count": 154,
   "id": "a1488fbc",
   "metadata": {},
   "outputs": [],
   "source": [
    "replace_char_dict_customers = {\"_\": \" \", \"-\": \" \"}"
   ]
  },
  {
   "cell_type": "code",
   "execution_count": 155,
   "id": "425242c1",
   "metadata": {},
   "outputs": [],
   "source": [
    "df_format_cols = format_columns(df_optional_cols, format_columns_customers, replace_char_dict_customers, notebook)\n"
   ]
  },
  {
   "attachments": {},
   "cell_type": "markdown",
   "id": "6b429699",
   "metadata": {},
   "source": [
    "Constraints"
   ]
  },
  {
   "cell_type": "code",
   "execution_count": 156,
   "id": "8f532e29",
   "metadata": {},
   "outputs": [],
   "source": [
    "# converting height into cm \n",
    "\n",
    "df_format_cols[\"height\"] = (df_format_cols[\"height\"] * 100).astype(\"int64\")"
   ]
  },
  {
   "cell_type": "code",
   "execution_count": 157,
   "id": "6c25f00e",
   "metadata": {},
   "outputs": [],
   "source": [
    "def constraints():\n",
    "\n",
    "    try: \n",
    "        if df_format_cols[\"smoker\"].isin([\"False\", \"True\"]).all():\n",
    "            pass\n",
    "        else:\n",
    "            raise ValueError\n",
    "            \n",
    "\n",
    "        if df_format_cols[\"birth_year\"].isin(list(range(1920, 2015))).all():\n",
    "            pass\n",
    "        else:\n",
    "            raise ValueError\n",
    "    \n",
    "\n",
    "        if df_format_cols[\"marital_status\"].isin([\"Single\", \"Married\", \"Divorced\", \"Widow\"]).all():\n",
    "            pass\n",
    "        else:\n",
    "            raise ValueError  \n",
    "\n",
    "\n",
    "        if df_format_cols[\"height\"].isin(list(range(70, 230))).all():\n",
    "            pass\n",
    "        else:\n",
    "            raise ValueError   \n",
    "\n",
    "        if df_format_cols[\"weight\"].isin(list(range(40, 300))).all():\n",
    "            pass\n",
    "        else:\n",
    "            raise ValueError  \n",
    "    \n",
    "\n",
    "    except Exception:\n",
    "        trace = traceback.format_exc(limit=1)\n",
    "\n",
    "        with open(\"log.txt\", \"a\") as f:\n",
    "            print(f\"An error occured running the <{notebook}>\", file=f)\n",
    "            print()\n",
    "            print(trace, file=f)  \n",
    "\n",
    "        sys.exit()\n",
    "            "
   ]
  },
  {
   "cell_type": "code",
   "execution_count": 158,
   "id": "52451849",
   "metadata": {},
   "outputs": [],
   "source": [
    "constraints()\n",
    "\n"
   ]
  },
  {
   "attachments": {},
   "cell_type": "markdown",
   "id": "9bd8d196",
   "metadata": {},
   "source": [
    "Check duplicates"
   ]
  },
  {
   "cell_type": "code",
   "execution_count": 159,
   "id": "6b345e76",
   "metadata": {},
   "outputs": [],
   "source": [
    "df_final_customers = df_format_cols.drop_duplicates()\n"
   ]
  },
  {
   "cell_type": "code",
   "execution_count": 160,
   "id": "78c289b4",
   "metadata": {},
   "outputs": [],
   "source": [
    "customer_unique_cust_id = df_final_customers[\"userID\"].unique()"
   ]
  },
  {
   "cell_type": "code",
   "execution_count": 161,
   "id": "b63229b4",
   "metadata": {},
   "outputs": [
    {
     "name": "stdout",
     "output_type": "stream",
     "text": [
      "Stored 'customer_unique_cust_id' (ndarray)\n"
     ]
    }
   ],
   "source": [
    "%store customer_unique_cust_id"
   ]
  },
  {
   "cell_type": "code",
   "execution_count": null,
   "id": "2a498698",
   "metadata": {},
   "outputs": [],
   "source": []
  }
 ],
 "metadata": {
  "kernelspec": {
   "display_name": "Python 3 (ipykernel)",
   "language": "python",
   "name": "python3"
  },
  "language_info": {
   "codemirror_mode": {
    "name": "ipython",
    "version": 3
   },
   "file_extension": ".py",
   "mimetype": "text/x-python",
   "name": "python",
   "nbconvert_exporter": "python",
   "pygments_lexer": "ipython3",
   "version": "3.9.13"
  }
 },
 "nbformat": 4,
 "nbformat_minor": 5
}
